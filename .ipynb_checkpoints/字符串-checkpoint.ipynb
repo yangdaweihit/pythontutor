{
 "cells": [
  {
   "cell_type": "markdown",
   "metadata": {},
   "source": [
    "# [文本序列类型 --- str](https://docs.python.org/zh-cn/3/library/stdtypes.html#textseq)\n",
    "\n",
    "- str是专门用于存储字符地序列数据类型\n",
    "- str就是我们常说的**字符串**类型\n",
    "- 它是一个不可变类型\n",
    "- 它可由一对单引号、一对双引号、或一对三重引号包括的字符构成\n",
    "\n",
    "本节讲述：\n",
    "1. 字符串定义\n",
    "2. 字符串格式化\n",
    "3. 字符串方法"
   ]
  },
  {
   "cell_type": "code",
   "execution_count": 77,
   "metadata": {},
   "outputs": [],
   "source": [
    "import decimal\n",
    "import datetime\n",
    "import string"
   ]
  },
  {
   "cell_type": "markdown",
   "metadata": {},
   "source": [
    "## 定义 \n",
    "### 字面值\n",
    "- 可由字会串字面值的方式定义一个字符串；\n",
    "- 在字符串中，字符`\\`会将跟在它后面的字母解释为一种格式，这个作为称为`转义`，`\\`称为`转义符` ；\n",
    "- 在字符串前面加上某此字符，构成了对字符串的特定解释。这些字符称为[字面值前缀](https://docs.python.org/zh-cn/3/reference/lexical_analysis.html#strings)。"
   ]
  },
  {
   "cell_type": "code",
   "execution_count": 8,
   "metadata": {},
   "outputs": [
    {
     "data": {
      "text/plain": [
       "'这是三重号构成的字符串'"
      ]
     },
     "execution_count": 8,
     "metadata": {},
     "output_type": "execute_result"
    }
   ],
   "source": [
    "'这是单引号构成的字符串'"
   ]
  },
  {
   "cell_type": "code",
   "execution_count": 10,
   "metadata": {},
   "outputs": [
    {
     "data": {
      "text/plain": [
       "'这是双引号构成的字符串'"
      ]
     },
     "execution_count": 10,
     "metadata": {},
     "output_type": "execute_result"
    }
   ],
   "source": [
    "\"这是双引号构成的字符串\""
   ]
  },
  {
   "cell_type": "code",
   "execution_count": 72,
   "metadata": {},
   "outputs": [
    {
     "data": {
      "text/plain": [
       "'这是三重号构成的字符串'"
      ]
     },
     "execution_count": 72,
     "metadata": {},
     "output_type": "execute_result"
    }
   ],
   "source": [
    "'''这是三重号构成的字符串'''"
   ]
  },
  {
   "cell_type": "markdown",
   "metadata": {},
   "source": [
    "### 转义符"
   ]
  },
  {
   "cell_type": "code",
   "execution_count": 50,
   "metadata": {},
   "outputs": [
    {
     "name": "stdout",
     "output_type": "stream",
     "text": [
      "你好\t你好\n",
      "你好\\ 双引号\" 单引号' \n"
     ]
    }
   ],
   "source": [
    "print('你好\\t你好\\n你好\\\\ 双引号\\\" 单引号\\' ')"
   ]
  },
  {
   "cell_type": "code",
   "execution_count": 33,
   "metadata": {},
   "outputs": [
    {
     "data": {
      "text/plain": [
       "[b'adsf', b'adsf', 'no escape \\\\t \\\\r \\\\n', 'no escape \\\\t \\\\r \\\\n']"
      ]
     },
     "execution_count": 33,
     "metadata": {},
     "output_type": "execute_result"
    }
   ],
   "source": [
    "strlist = [b'adsf', B'adsf', r'no escape \\t \\r \\n', R'no escape \\t \\r \\n']\n",
    "strlist"
   ]
  },
  {
   "cell_type": "markdown",
   "metadata": {},
   "source": [
    "**注意**: 即使在原始字面值中，引号也可以加上反斜杠转义符，但反斜杠会保留在输出结果中；例如 r\"\\\"\" 是一个有效的字符串字面值，包含两个字符: 一个反斜杠和一个双引号；而 r\"\\\" 不是一个有效的字符串字面值 (即便是原始字符串也不能以奇数个反斜杠结束)。特别地，一个原始字面值不能以单个反斜杠结束 (因为此反斜杠会转义其后的引号字符)。还要注意一个反斜杠加一个换行在字面值中会被解释为两个字符，而 不是 一个连续行。"
   ]
  },
  {
   "cell_type": "markdown",
   "metadata": {},
   "source": [
    "### 格式化字面值\n",
    "\n",
    "3.6 新版功能：格式化字符串字面值 或称 f-string 是带有 'f' 或 'F' 前缀的字符串字面值。这种字符串可包含替换字段，即以 {} 标示的表达式。而其他字符串字面值总是一个常量，格式化字符串字面值实际上是会在运行时被求值的表达式。"
   ]
  },
  {
   "cell_type": "code",
   "execution_count": 54,
   "metadata": {},
   "outputs": [
    {
     "name": "stdout",
     "output_type": "stream",
     "text": [
      "恭喜你考上了哈尔滨工业大学\n",
      "恭喜你考上了哈尔滨工程大学\n"
     ]
    }
   ],
   "source": [
    "a = '哈尔滨工业'\n",
    "b = '哈尔滨工程'\n",
    "print(f'恭喜你考上了{a}大学')\n",
    "print(f'恭喜你考上了{b}大学')"
   ]
  },
  {
   "cell_type": "code",
   "execution_count": 56,
   "metadata": {},
   "outputs": [
    {
     "name": "stdout",
     "output_type": "stream",
     "text": [
      "He said his name is 'Fred'.\n",
      "He said his name is 'Fred'.\n"
     ]
    }
   ],
   "source": [
    "name = 'Fred'\n",
    "print(f\"He said his name is {name!r}.\") # 后面的 !r 表示转化之后再次格式化\n",
    "print(f\"He said his name is {repr(name)}.\" )   # !r作用相当于函数 repr()"
   ]
  },
  {
   "cell_type": "code",
   "execution_count": 58,
   "metadata": {},
   "outputs": [
    {
     "data": {
      "text/plain": [
       "'result:      12.35'"
      ]
     },
     "execution_count": 58,
     "metadata": {},
     "output_type": "execute_result"
    }
   ],
   "source": [
    "width = 10\n",
    "precision = 4\n",
    "value = decimal.Decimal(\"12.34567\")\n",
    "f\"result: {value:{width}.{precision}}\""
   ]
  },
  {
   "cell_type": "code",
   "execution_count": 69,
   "metadata": {},
   "outputs": [
    {
     "name": "stdout",
     "output_type": "stream",
     "text": [
      "January 27, 2017\n",
      "today=January 27, 2017\n"
     ]
    }
   ],
   "source": [
    "today = datetime.datetime(year=2017, month=1, day=27)\n",
    "print(f\"{today:%B %d, %Y}\")  # using date format specifier 冒号 ':' 标示的格式说明符\n",
    "print(f\"{today=:%B %d, %Y}\") # using date format specifier and debugging  = 输出将包含表达式文本，'=' 以及求值结果。"
   ]
  },
  {
   "cell_type": "code",
   "execution_count": 71,
   "metadata": {},
   "outputs": [
    {
     "name": "stdout",
     "output_type": "stream",
     "text": [
      "line = \"The mill's closed\"\n",
      "line = The mill's closed    stop\n",
      "line = \"The mill's closed\" \n"
     ]
    }
   ],
   "source": [
    "line = \"The mill's closed\"\n",
    "print(f\"{line = }\")\n",
    "print(f\"{line = :20}\",'stop')\n",
    "print(f\"{line = !r:20}\")"
   ]
  },
  {
   "cell_type": "markdown",
   "metadata": {},
   "source": [
    "### str()函数定义\n",
    "- 字符串也可以通过使用 str 构造器从其他对象创建"
   ]
  },
  {
   "cell_type": "code",
   "execution_count": 20,
   "metadata": {},
   "outputs": [
    {
     "data": {
      "text/plain": [
       "'123'"
      ]
     },
     "execution_count": 20,
     "metadata": {},
     "output_type": "execute_result"
    }
   ],
   "source": [
    "# 由一个整数和小数初始化成一个字符串\n",
    "str(1234)\n",
    "str(1.234)"
   ]
  },
  {
   "cell_type": "code",
   "execution_count": 21,
   "metadata": {},
   "outputs": [
    {
     "data": {
      "text/plain": [
       "'357'"
      ]
     },
     "execution_count": 21,
     "metadata": {},
     "output_type": "execute_result"
    }
   ],
   "source": [
    "str(123+234)"
   ]
  },
  {
   "cell_type": "markdown",
   "metadata": {},
   "source": [
    "## 字符串的方法\n",
    "\n",
    "字符串实现了所有一般序列的操作，还额外提供了以下列出的一些附加方法。\n",
    "\n",
    "- str.capitalize()/str.lower()/str.upper()/str.title()/str.swapcase() \n",
    "- str.center(width[, fillchar])/str.ljust(width[, fillchar])//str.rjust(width[, fillchar])\n",
    "- str.count(sub[, start[, end]])\n",
    "- str.encode(encoding=\"utf-8\", errors=\"strict\")\n",
    "- str.startswith(prefix[, start[, end]])/str.endswith(suffix[, start[, end]])\n",
    "- str.find(sub[, start[, end]])\n",
    "- str.format(*args, **kwargs)\n",
    "- str.format_map(mapping)\n",
    "- str.index(sub[, start[, end]])\n",
    "- str.isalnum()/str.isalpha()/str.isascii()/str.isdecimal()/str.isdigit()/str.isidentifier()/str.islower()/str.isnumeric()\n",
    "  str.isprintable()/str.isspace()/str.istitle()/str.isupper()\n",
    "- str.join(iterable)\n",
    "- str.strip([chars])/str.lstrip([chars])/str.rstrip([chars])\n",
    "- str.split(sep=None, maxsplit=-1)/str.rsplit(sep=None, maxsplit=-1)\n",
    "- str.partition(sep)/ str.rpartition(sep)\n",
    "- str.removeprefix(prefix, /)/str.removesuffix(suffix, /)\n",
    "- str.replace(old, new[, count]) "
   ]
  },
  {
   "cell_type": "code",
   "execution_count": 87,
   "metadata": {},
   "outputs": [
    {
     "name": "stdout",
     "output_type": "stream",
     "text": [
      "Hello world\n",
      "hello world\n",
      "HELLO WORLD\n",
      "Hello World\n",
      "HELLO WORLD\n"
     ]
    }
   ],
   "source": [
    "a = 'hello world'\n",
    "print(a.capitalize())\n",
    "print(a.lower())\n",
    "print(a.upper())\n",
    "print(a.title())\n",
    "print(a.swapcase())"
   ]
  },
  {
   "cell_type": "code",
   "execution_count": 84,
   "metadata": {},
   "outputs": [
    {
     "name": "stdout",
     "output_type": "stream",
     "text": [
      "11\n",
      "****  abcde    *****\n",
      "*********  abcde    \n",
      "  abcde    *********\n"
     ]
    }
   ],
   "source": [
    "b = '  abcde    '\n",
    "print(len(b))\n",
    "print(b.center(20,'*'))\n",
    "print(b.rjust(20,'*'))\n",
    "print(b.ljust(20,'*'))"
   ]
  },
  {
   "cell_type": "code",
   "execution_count": 86,
   "metadata": {},
   "outputs": [
    {
     "name": "stdout",
     "output_type": "stream",
     "text": [
      "4\n",
      "2\n"
     ]
    }
   ],
   "source": [
    "c = 'a1a2a3a4'\n",
    "print(c.count('a'))\n",
    "print(c.count('a',0,4))"
   ]
  },
  {
   "cell_type": "code",
   "execution_count": 88,
   "metadata": {},
   "outputs": [
    {
     "name": "stdout",
     "output_type": "stream",
     "text": [
      "True\n",
      "True\n"
     ]
    }
   ],
   "source": [
    "d = \"SD12.png\"\n",
    "print(d.startswith('SD'))\n",
    "print(d.endswith('.png'))"
   ]
  },
  {
   "cell_type": "code",
   "execution_count": 114,
   "metadata": {},
   "outputs": [
    {
     "name": "stdout",
     "output_type": "stream",
     "text": [
      "2\n",
      "True\n"
     ]
    }
   ],
   "source": [
    "e = 'Python'\n",
    "print(e.find('th'))\n",
    "print('Py' in e)"
   ]
  },
  {
   "cell_type": "code",
   "execution_count": 121,
   "metadata": {},
   "outputs": [
    {
     "name": "stdout",
     "output_type": "stream",
     "text": [
      "adsf1234\n",
      "adsf1234\n"
     ]
    }
   ],
   "source": [
    "f = str()\n",
    "print(f.join(['adsf','1234']))\n",
    "print(str().join(['adsf','1234']))"
   ]
  },
  {
   "cell_type": "code",
   "execution_count": 130,
   "metadata": {},
   "outputs": [
    {
     "name": "stdout",
     "output_type": "stream",
     "text": [
      "spacious   adf\n",
      "   spacious   adf\n",
      "spacious   adf\n"
     ]
    }
   ],
   "source": [
    "print('   spacious   adf'.lstrip())\n",
    "print('   spacious   adf'.rstrip())\n",
    "print('   spacious   adf   '.strip())"
   ]
  },
  {
   "cell_type": "code",
   "execution_count": 134,
   "metadata": {},
   "outputs": [
    {
     "data": {
      "text/plain": [
       "['1', '2', '3']"
      ]
     },
     "execution_count": 134,
     "metadata": {},
     "output_type": "execute_result"
    }
   ],
   "source": [
    "'1,2,3'.split(',')"
   ]
  },
  {
   "cell_type": "code",
   "execution_count": 135,
   "metadata": {},
   "outputs": [
    {
     "data": {
      "text/plain": [
       "['ab c', '', 'de fg', 'kl']"
      ]
     },
     "execution_count": 135,
     "metadata": {},
     "output_type": "execute_result"
    }
   ],
   "source": [
    "'ab c\\n\\nde fg\\rkl\\r\\n'.splitlines()"
   ]
  },
  {
   "cell_type": "markdown",
   "metadata": {},
   "source": [
    "## 格式化方法\n",
    "\n",
    "**str.format(*args, **kwargs)**\n",
    "执行字符串格式化操作。 调用此方法的字符串可以包含字符串字面值或者以花括号 {} 括起来的替换域。 每个替换域可以包含一个位置参数的数字索引，或者一个关键字参数的名称。 返回的字符串副本中每个替换域都会被替换为对应参数的字符串值。"
   ]
  },
  {
   "cell_type": "code",
   "execution_count": 92,
   "metadata": {},
   "outputs": [
    {
     "data": {
      "text/plain": [
       "'The sum of 1 + 2 is 3'"
      ]
     },
     "execution_count": 92,
     "metadata": {},
     "output_type": "execute_result"
    }
   ],
   "source": [
    "\"The sum of 1 + 2 is {0}\".format(1+2)"
   ]
  },
  {
   "cell_type": "markdown",
   "metadata": {},
   "source": [
    "在`{}`之中，可以使用[格式规格迷你语言](https://docs.python.org/zh-cn/3/library/string.html#formatspec)对字符串格式化。\n",
    "\n",
    "- format_spec     ::=  [[fill]align][sign][#][0][width][grouping_option][.precision][type]\n",
    "- fill            ::=  any character\n",
    "- align           ::=  \"<\" | \">\" | \"=\" | \"^\"\n",
    "- sign            ::=  \"+\" | \"-\" | \" \"\n",
    "- width           ::=  digit+\n",
    "- grouping_option ::=  \"_\" | \",\"\n",
    "- precision       ::=  digit+\n",
    "- type            ::=  \"b\" | \"c\" | \"d\" | \"e\" | \"E\" | \"f\" | \"F\" | \"g\" | \"G\" | \"n\" | \"o\" | \"s\" | \"x\" | \"X\" | \"%\""
   ]
  },
  {
   "cell_type": "code",
   "execution_count": 104,
   "metadata": {},
   "outputs": [
    {
     "name": "stdout",
     "output_type": "stream",
     "text": [
      "1234.567 -1234.567\n",
      "-1234.567 1234.567\n",
      "              1234.6\n",
      "       1234.6       \n",
      "              1234.6\n",
      "1234.6**************\n",
      "*******1234.6*******\n",
      "**************1234.6\n"
     ]
    }
   ],
   "source": [
    "a = 1234.567\n",
    "b = -1234.567\n",
    "print(\"{0} {1}\".format(a,b))\n",
    "print(\"{1} {0}\".format(a,b))\n",
    "print(\"{0:20.5}\".format(a))\n",
    "print(\"{0:^20.5}\".format(a))\n",
    "print(\"{0:>20.5}\".format(a))\n",
    "print(\"{0:*<20.5}\".format(a))\n",
    "print(\"{0:*^20.5}\".format(a))\n",
    "print(\"{0:*>20.5}\".format(a))"
   ]
  },
  {
   "cell_type": "code",
   "execution_count": 107,
   "metadata": {},
   "outputs": [
    {
     "name": "stdout",
     "output_type": "stream",
     "text": [
      "             +1234.6\n",
      "             -1234.6\n"
     ]
    }
   ],
   "source": [
    "print(\"{0:+20.5}\".format(a))\n",
    "print(\"{0:20.5}\".format(b))"
   ]
  },
  {
   "cell_type": "code",
   "execution_count": 108,
   "metadata": {},
   "outputs": [
    {
     "name": "stdout",
     "output_type": "stream",
     "text": [
      "        +1.23457E+03\n"
     ]
    }
   ],
   "source": [
    "print(\"{0:+20.5E}\".format(a))"
   ]
  },
  {
   "cell_type": "code",
   "execution_count": 109,
   "metadata": {},
   "outputs": [
    {
     "data": {
      "text/plain": [
       "'1,234,567,890'"
      ]
     },
     "execution_count": 109,
     "metadata": {},
     "output_type": "execute_result"
    }
   ],
   "source": [
    "'{:,}'.format(1234567890)"
   ]
  },
  {
   "cell_type": "code",
   "execution_count": 111,
   "metadata": {},
   "outputs": [
    {
     "data": {
      "text/plain": [
       "'Correct answers: 86.36%'"
      ]
     },
     "execution_count": 111,
     "metadata": {},
     "output_type": "execute_result"
    }
   ],
   "source": [
    "points = 19\n",
    "total = 22\n",
    "'Correct answers: {:.2%}'.format(points/total)"
   ]
  },
  {
   "cell_type": "code",
   "execution_count": 112,
   "metadata": {},
   "outputs": [
    {
     "data": {
      "text/plain": [
       "'2010-07-04 12:15:58'"
      ]
     },
     "execution_count": 112,
     "metadata": {},
     "output_type": "execute_result"
    }
   ],
   "source": [
    "d = datetime.datetime(2010, 7, 4, 12, 15, 58)\n",
    "'{:%Y-%m-%d %H:%M:%S}'.format(d)"
   ]
  },
  {
   "cell_type": "markdown",
   "metadata": {},
   "source": [
    "## string模块\n",
    "\n",
    "除了内建的str类型，Python还有一个string模块，提供了一些额外的常量和方法。"
   ]
  },
  {
   "cell_type": "code",
   "execution_count": 1,
   "metadata": {},
   "outputs": [
    {
     "name": "stdout",
     "output_type": "stream",
     "text": [
      "abcdefghijklmnopqrstuvwxyzABCDEFGHIJKLMNOPQRSTUVWXYZ\n",
      "abcdefghijklmnopqrstuvwxyz\n",
      "ABCDEFGHIJKLMNOPQRSTUVWXYZ\n",
      "0123456789\n",
      "!\"#$%&'()*+,-./:;<=>?@[\\]^_`{|}~\n"
     ]
    }
   ],
   "source": [
    "import string\n",
    "print(string.ascii_letters)\n",
    "print(string.ascii_lowercase)\n",
    "print(string.ascii_uppercase)\n",
    "print(string.digits)\n",
    "print(string.punctuation)"
   ]
  }
 ],
 "metadata": {
  "kernelspec": {
   "display_name": "Python 3",
   "language": "python",
   "name": "python3"
  },
  "language_info": {
   "codemirror_mode": {
    "name": "ipython",
    "version": 3
   },
   "file_extension": ".py",
   "mimetype": "text/x-python",
   "name": "python",
   "nbconvert_exporter": "python",
   "pygments_lexer": "ipython3",
   "version": "3.8.6"
  }
 },
 "nbformat": 4,
 "nbformat_minor": 4
}
